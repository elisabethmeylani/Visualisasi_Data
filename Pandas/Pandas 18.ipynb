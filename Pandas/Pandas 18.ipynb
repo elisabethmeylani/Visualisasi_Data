{
 "cells": [
  {
   "cell_type": "markdown",
   "id": "3a605770-12c9-4ea9-8139-16912d4cc739",
   "metadata": {},
   "source": [
    "# Membentuk dummy Data Frame"
   ]
  },
  {
   "cell_type": "markdown",
   "id": "8f4f70c1-8d9a-47a1-9f42-52fd0c940abd",
   "metadata": {},
   "source": [
    "# Import Modules"
   ]
  },
  {
   "cell_type": "code",
   "execution_count": 1,
   "id": "f5eb5877-99d7-4892-951d-324dfcee2f1c",
   "metadata": {},
   "outputs": [
    {
     "name": "stdout",
     "output_type": "stream",
     "text": [
      "2.1.4\n",
      "1.26.4\n"
     ]
    }
   ],
   "source": [
    "import pandas as pd\n",
    "import numpy as np\n",
    "\n",
    "print(pd.__version__)\n",
    "print(np.__version__)"
   ]
  },
  {
   "cell_type": "markdown",
   "id": "506c4eef-70b4-4576-9beb-1d0ab0df79f9",
   "metadata": {},
   "source": [
    "# Membentuk Data Frame dari Dictionary"
   ]
  },
  {
   "cell_type": "code",
   "execution_count": 2,
   "id": "cc853a59-4fc5-4587-b734-437d886fcfdb",
   "metadata": {},
   "outputs": [
    {
     "data": {
      "text/html": [
       "<div>\n",
       "<style scoped>\n",
       "    .dataframe tbody tr th:only-of-type {\n",
       "        vertical-align: middle;\n",
       "    }\n",
       "\n",
       "    .dataframe tbody tr th {\n",
       "        vertical-align: top;\n",
       "    }\n",
       "\n",
       "    .dataframe thead th {\n",
       "        text-align: right;\n",
       "    }\n",
       "</style>\n",
       "<table border=\"1\" class=\"dataframe\">\n",
       "  <thead>\n",
       "    <tr style=\"text-align: right;\">\n",
       "      <th></th>\n",
       "      <th>col1</th>\n",
       "      <th>col2</th>\n",
       "    </tr>\n",
       "  </thead>\n",
       "  <tbody>\n",
       "    <tr>\n",
       "      <th>0</th>\n",
       "      <td>1</td>\n",
       "      <td>5</td>\n",
       "    </tr>\n",
       "    <tr>\n",
       "      <th>1</th>\n",
       "      <td>2</td>\n",
       "      <td>6</td>\n",
       "    </tr>\n",
       "    <tr>\n",
       "      <th>2</th>\n",
       "      <td>3</td>\n",
       "      <td>7</td>\n",
       "    </tr>\n",
       "    <tr>\n",
       "      <th>3</th>\n",
       "      <td>4</td>\n",
       "      <td>8</td>\n",
       "    </tr>\n",
       "  </tbody>\n",
       "</table>\n",
       "</div>"
      ],
      "text/plain": [
       "   col1  col2\n",
       "0     1     5\n",
       "1     2     6\n",
       "2     3     7\n",
       "3     4     8"
      ]
     },
     "execution_count": 2,
     "metadata": {},
     "output_type": "execute_result"
    }
   ],
   "source": [
    "pd.DataFrame({'col1':[1, 2, 3, 4], \n",
    "              'col2':[5, 6, 7, 8]})"
   ]
  },
  {
   "cell_type": "markdown",
   "id": "c5c3a995-d053-4044-b0f1-321b1a5d255a",
   "metadata": {},
   "source": [
    "# Membentuk Data Frame dari Numpy Array"
   ]
  },
  {
   "cell_type": "code",
   "execution_count": 3,
   "id": "bb526c67-cfd9-4c78-9ecf-d69730fe9715",
   "metadata": {},
   "outputs": [
    {
     "data": {
      "text/plain": [
       "array([[ 4, 13, 11],\n",
       "       [ 9,  8,  1],\n",
       "       [16, 13, 12],\n",
       "       [14, 15, 18],\n",
       "       [ 9, 12, 14]])"
      ]
     },
     "execution_count": 3,
     "metadata": {},
     "output_type": "execute_result"
    }
   ],
   "source": [
    "n_rows = 5\n",
    "n_cols = 3\n",
    "\n",
    "arr = np.random.randint(1, 20, size=(n_rows, n_cols))\n",
    "arr"
   ]
  },
  {
   "cell_type": "code",
   "execution_count": 4,
   "id": "ca509edf-b88d-4ba5-8b13-671263872386",
   "metadata": {},
   "outputs": [
    {
     "data": {
      "text/html": [
       "<div>\n",
       "<style scoped>\n",
       "    .dataframe tbody tr th:only-of-type {\n",
       "        vertical-align: middle;\n",
       "    }\n",
       "\n",
       "    .dataframe tbody tr th {\n",
       "        vertical-align: top;\n",
       "    }\n",
       "\n",
       "    .dataframe thead th {\n",
       "        text-align: right;\n",
       "    }\n",
       "</style>\n",
       "<table border=\"1\" class=\"dataframe\">\n",
       "  <thead>\n",
       "    <tr style=\"text-align: right;\">\n",
       "      <th></th>\n",
       "      <th>A</th>\n",
       "      <th>B</th>\n",
       "      <th>C</th>\n",
       "    </tr>\n",
       "  </thead>\n",
       "  <tbody>\n",
       "    <tr>\n",
       "      <th>0</th>\n",
       "      <td>4</td>\n",
       "      <td>13</td>\n",
       "      <td>11</td>\n",
       "    </tr>\n",
       "    <tr>\n",
       "      <th>1</th>\n",
       "      <td>9</td>\n",
       "      <td>8</td>\n",
       "      <td>1</td>\n",
       "    </tr>\n",
       "    <tr>\n",
       "      <th>2</th>\n",
       "      <td>16</td>\n",
       "      <td>13</td>\n",
       "      <td>12</td>\n",
       "    </tr>\n",
       "    <tr>\n",
       "      <th>3</th>\n",
       "      <td>14</td>\n",
       "      <td>15</td>\n",
       "      <td>18</td>\n",
       "    </tr>\n",
       "    <tr>\n",
       "      <th>4</th>\n",
       "      <td>9</td>\n",
       "      <td>12</td>\n",
       "      <td>14</td>\n",
       "    </tr>\n",
       "  </tbody>\n",
       "</table>\n",
       "</div>"
      ],
      "text/plain": [
       "    A   B   C\n",
       "0   4  13  11\n",
       "1   9   8   1\n",
       "2  16  13  12\n",
       "3  14  15  18\n",
       "4   9  12  14"
      ]
     },
     "execution_count": 4,
     "metadata": {},
     "output_type": "execute_result"
    }
   ],
   "source": [
    "pd.DataFrame(arr, columns=tuple('ABC'))"
   ]
  },
  {
   "cell_type": "markdown",
   "id": "49f78c9a-8ffd-4386-af56-fb94d6f474fb",
   "metadata": {},
   "source": [
    "# Membentuk Data Frame dengan memanfaatkan pandas.util.testing"
   ]
  },
  {
   "cell_type": "code",
   "execution_count": 6,
   "id": "85a4d78b-76dc-4f89-83ce-d61661969282",
   "metadata": {},
   "outputs": [
    {
     "name": "stdout",
     "output_type": "stream",
     "text": [
      "          A         B         C         D\n",
      "0 -0.264002 -1.576491 -0.945822  1.794454\n",
      "1  1.021092  2.025311  0.749782  0.986193\n",
      "2 -1.227513 -1.270316  0.008401  0.844822\n",
      "3 -0.120317  0.185310 -1.232746 -0.178958\n",
      "4  0.585617  0.547603 -0.592530  1.223969\n"
     ]
    }
   ],
   "source": [
    "n_rows = 30 \n",
    "n_cols = 4 \n",
    "columns = list('ABCD')\n",
    "\n",
    "data = np.random.randn(n_rows, n_cols)\n",
    "\n",
    "df = pd.DataFrame(data, columns=columns)\n",
    "\n",
    "print(df.head())"
   ]
  },
  {
   "cell_type": "code",
   "execution_count": 7,
   "id": "a71c9869-2b7e-447a-8613-b26c65941dc9",
   "metadata": {},
   "outputs": [
    {
     "name": "stdout",
     "output_type": "stream",
     "text": [
      "          A  B          C     D\n",
      "0  1.082972  1 2024-01-01   foo\n",
      "1  1.478131  2 2024-01-02   bar\n",
      "2  0.244767  3 2024-01-03   baz\n",
      "3  1.157314  4 2024-01-04   qux\n",
      "4  1.076297  5 2024-01-05  quux\n"
     ]
    }
   ],
   "source": [
    "n_rows = 5 \n",
    "\n",
    "data = {\n",
    "    'A': np.random.randn(n_rows),                 \n",
    "    'B': np.arange(1, n_rows + 1),                \n",
    "    'C': pd.date_range('2024-01-01', periods=n_rows), \n",
    "    'D': ['foo', 'bar', 'baz', 'qux', 'quux']    \n",
    "}\n",
    "\n",
    "df = pd.DataFrame(data)\n",
    "\n",
    "print(df.head())"
   ]
  },
  {
   "cell_type": "code",
   "execution_count": 8,
   "id": "9c49ca00-4f4c-4989-8cfb-3c77b09674b6",
   "metadata": {},
   "outputs": [
    {
     "name": "stdout",
     "output_type": "stream",
     "text": [
      "                   A         B         C         D\n",
      "2024-01-01 -2.095613 -0.149897 -0.181951 -1.134171\n",
      "2024-01-02 -0.555421 -1.122518 -0.742813  0.306382\n",
      "2024-01-03  0.398580 -0.681349 -0.853773  0.681277\n",
      "2024-01-04 -1.930920  1.317263 -1.313631  0.005003\n",
      "2024-01-05  0.783345 -1.307210 -1.081697  0.958421\n"
     ]
    }
   ],
   "source": [
    "\n",
    "n_rows = 30  \n",
    "n_cols = 4   \n",
    "columns = list('ABCD')  \n",
    "\n",
    "time_index = pd.date_range(start='2024-01-01', periods=n_rows, freq='D')  \n",
    "\n",
    "df = pd.DataFrame(np.random.randn(n_rows, n_cols), index=time_index, columns=columns)\n",
    "\n",
    "print(df.head())"
   ]
  },
  {
   "cell_type": "code",
   "execution_count": 9,
   "id": "40837083-1047-4e82-9c3f-d61097ca5e56",
   "metadata": {},
   "outputs": [
    {
     "name": "stdout",
     "output_type": "stream",
     "text": [
      "          A         B         C         D\n",
      "0  1.042344       NaN -1.832102  1.142088\n",
      "1  1.033857  0.404174  1.560756 -2.322428\n",
      "2 -0.702290 -2.382372 -1.672759       NaN\n",
      "3 -1.469699  0.987896 -1.662422 -0.339147\n",
      "4       NaN  0.463031 -0.578387  0.658270\n"
     ]
    }
   ],
   "source": [
    "n_rows = 5\n",
    "n_cols = 4\n",
    "\n",
    "data = np.random.randn(n_rows, n_cols)\n",
    "\n",
    "df = pd.DataFrame(data, columns=list('ABCD'))\n",
    "\n",
    "df.iloc[0, 1] = np.nan\n",
    "df.iloc[2, 3] = np.nan\n",
    "df.iloc[4, 0] = np.nan\n",
    "\n",
    "print(df.head())"
   ]
  },
  {
   "cell_type": "code",
   "execution_count": null,
   "id": "5a06dddf-fba2-4568-a538-0e14fb384f78",
   "metadata": {},
   "outputs": [],
   "source": []
  }
 ],
 "metadata": {
  "kernelspec": {
   "display_name": "Python 3 (ipykernel)",
   "language": "python",
   "name": "python3"
  },
  "language_info": {
   "codemirror_mode": {
    "name": "ipython",
    "version": 3
   },
   "file_extension": ".py",
   "mimetype": "text/x-python",
   "name": "python",
   "nbconvert_exporter": "python",
   "pygments_lexer": "ipython3",
   "version": "3.11.7"
  }
 },
 "nbformat": 4,
 "nbformat_minor": 5
}
